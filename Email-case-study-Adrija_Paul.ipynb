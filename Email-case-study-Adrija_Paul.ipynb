{
 "cells": [
  {
   "cell_type": "markdown",
   "id": "0e56a443",
   "metadata": {},
   "source": [
    "## Adrija Paul "
   ]
  },
  {
   "cell_type": "markdown",
   "id": "2d2df04e",
   "metadata": {},
   "source": [
    "1.What percentage of users opened the email and what percentage clicked on the link within the email?\n",
    "\n",
    "2.The VP of marketing thinks that it is stupid to send emails in a random way. Based on all the information you have about the emails that were sent, can you build a model to optimize in future how to send emails to maximize the probability of users clicking on the link inside the email?\n",
    "By how much do you think your model would improve click through rate (defined as # of users who click on the link/total users who receive the email). How would you test that?\n",
    "\n",
    "3.Did you find any interesting pattern on how the email campaign performed for different segments of users? Explain."
   ]
  },
  {
   "cell_type": "code",
   "execution_count": 1,
   "id": "85338913",
   "metadata": {},
   "outputs": [],
   "source": [
    "import pandas as pd\n",
    "import numpy as np\n",
    "from sklearn.model_selection import train_test_split\n",
    "from sklearn.ensemble import RandomForestClassifier\n",
    "from sklearn.metrics import classification_report, accuracy_score\n",
    "from sklearn.preprocessing import LabelEncoder\n",
    "import matplotlib.pyplot as plt\n",
    "import seaborn as sns\n"
   ]
  },
  {
   "cell_type": "code",
   "execution_count": 2,
   "id": "aa13d8c6",
   "metadata": {},
   "outputs": [],
   "source": [
    "# Load the data\n",
    "email_table = pd.read_csv('email_table.csv')\n",
    "email_opened = pd.read_csv('email_opened_table.csv')\n",
    "link_clicked = pd.read_csv('link_clicked_table.csv')\n"
   ]
  },
  {
   "cell_type": "code",
   "execution_count": 3,
   "id": "07e6ed27",
   "metadata": {},
   "outputs": [],
   "source": [
    "# Question 1: Open and Click Rates\n",
    "def calculate_rates(email_table, email_opened, link_clicked):\n",
    "    total_emails = len(email_table)\n",
    "    opened_count = len(email_opened)\n",
    "    clicked_count = len(link_clicked)\n",
    "    \n",
    "    open_rate = (opened_count / total_emails) * 100\n",
    "    click_rate = (clicked_count / total_emails) * 100\n",
    "    \n",
    "    print(f\"1. Email Open Rate: {open_rate:.2f}%\")\n",
    "    print(f\"   Email Click Rate: {click_rate:.2f}%\")\n",
    "    print(f\"   Click-to-Open Rate: {(clicked_count/opened_count)*100:.2f}%\" if opened_count > 0 else \"No opens\")\n",
    "    \n",
    "    return open_rate, click_rate"
   ]
  },
  {
   "cell_type": "code",
   "execution_count": 6,
   "id": "c58058d2",
   "metadata": {},
   "outputs": [],
   "source": [
    "# Question 2: Build Optimization Model\n",
    "def build_model(email_table, email_opened, link_clicked):\n",
    "    # Prepare data\n",
    "    df = email_table.copy()\n",
    "    df['opened'] = df['email_id'].isin(email_opened['email_id']).astype(int)\n",
    "    df['clicked'] = df['email_id'].isin(link_clicked['email_id']).astype(int)\n",
    "    \n",
    "    # Feature engineering\n",
    "    df['email_text'] = df['email_text'].map({'long text': 1, 'short text': 0})\n",
    "    df['email_version'] = df['email_version'].map({'personalized': 1, 'generic': 0})\n",
    "    df['hour'] = df['hour'].astype(int)\n",
    "    df['is_weekend'] = df['weekday'].isin(['Saturday', 'Sunday']).astype(int)\n",
    "    \n",
    "    country_encoder = LabelEncoder()\n",
    "    df['user_country_encoded'] = country_encoder.fit_transform(df['user_country'])\n",
    "\n",
    "    # Features and target\n",
    "    features = ['email_text', 'email_version', 'hour', 'is_weekend', \n",
    "                'user_country_encoded', 'user_past_purchases']\n",
    "    X = df[features]\n",
    "    y = df['clicked']\n",
    "    \n",
    "     #Train model\n",
    "    X_train, X_test, y_train, y_test = train_test_split(X, y, test_size=0.3, random_state=42)\n",
    "    model = RandomForestClassifier(n_estimators=100, random_state=42)\n",
    "    model.fit(X_train, y_train)\n",
    "    \n",
    "    # Feature importance\n",
    "    importance = pd.DataFrame({\n",
    "        'feature': features,\n",
    "        'importance': model.feature_importances_\n",
    "    }).sort_values('importance', ascending=False)\n",
    "    \n",
    "    print(\"\\n2. Model Feature Importance:\")\n",
    "    print(importance)\n",
    "    \n",
    "    return model, df\n"
   ]
  },
  {
   "cell_type": "code",
   "execution_count": 7,
   "id": "3acdca00",
   "metadata": {},
   "outputs": [],
   "source": [
    " # Question 3: Estimate CTR Improvement\n",
    "def estimate_improvement(model, df):\n",
    "    features = ['email_text', 'email_version', 'hour', 'is_weekend', \n",
    "                'user_country_encoded', 'user_past_purchases']\n",
    "    df['predicted_prob'] = model.predict_proba(df[features])[:, 1]\n",
    "    \n",
    "    original_ctr = df['clicked'].mean()\n",
    "    top_50_ctr = df.nlargest(int(len(df)*0.5), 'predicted_prob')['clicked'].mean()\n",
    "    top_30_ctr = df.nlargest(int(len(df)*0.3), 'predicted_prob')['clicked'].mean()\n",
    "    \n",
    "    print(f\"\\n3. Original CTR: {original_ctr:.4f}\")\n",
    "    print(f\"   Top 50% Predicted CTR: {top_50_ctr:.4f} ({(top_50_ctr - original_ctr)/original_ctr:.1%} improvement)\")\n",
    "    print(f\"   Top 30% Predicted CTR: {top_30_ctr:.4f} ({(top_30_ctr - original_ctr)/original_ctr:.1%} improvement)\")\n",
    "     # A/B testing suggestion\n",
    "    print(\"\\n   A/B Testing Approach:\")\n",
    "    print(\"   - Split users randomly into two groups\")\n",
    "    print(\"   - Control group: Send emails randomly (current approach)\")\n",
    "    print(\"   - Test group: Send only to top 30% predicted by model\")\n",
    "    print(\"   - Compare CTR between groups after 1-2 weeks\")\n"
   ]
  },
  {
   "cell_type": "code",
   "execution_count": 9,
   "id": "a045752c",
   "metadata": {},
   "outputs": [
    {
     "name": "stdout",
     "output_type": "stream",
     "text": [
      "ANSWERS TO THE QUESTIONS:\n",
      "\n",
      "1. Email Open Rate: 10.35%\n",
      "   Email Click Rate: 2.12%\n",
      "   Click-to-Open Rate: 20.48%\n",
      "\n",
      "2. Model Feature Importance:\n",
      "                feature  importance\n",
      "2                  hour    0.462362\n",
      "5   user_past_purchases    0.417198\n",
      "4  user_country_encoded    0.066788\n",
      "3            is_weekend    0.028080\n",
      "1         email_version    0.025571\n",
      "0            email_text    0.000000\n",
      "\n",
      "3. Original CTR: 0.0212\n",
      "   Top 50% Predicted CTR: 0.0377 (78.0% improvement)\n",
      "   Top 30% Predicted CTR: 0.0534 (151.8% improvement)\n",
      "\n",
      "   A/B Testing Approach:\n",
      "   - Split users randomly into two groups\n",
      "   - Control group: Send emails randomly (current approach)\n",
      "   - Test group: Send only to top 30% predicted by model\n",
      "   - Compare CTR between groups after 1-2 weeks\n",
      "\n",
      "4. Segment Analysis Results:\n",
      "\n",
      "   By Email Characteristics:\n",
      "   Text Length:\n",
      "Series([], Name: clicked, dtype: float64)\n",
      "\n",
      "   Personalization:\n",
      "email_version\n",
      "generic         0.015137\n",
      "personalized    0.027294\n",
      "Name: clicked, dtype: float64\n",
      "\n",
      "   By Timing:\n",
      "   Best Hours:\n",
      "hour\n",
      "23    0.041379\n",
      "24    0.028986\n",
      "10    0.028240\n",
      "11    0.027128\n",
      "9     0.025794\n",
      "Name: clicked, dtype: float64\n",
      "\n",
      "   Weekend vs Weekday:\n",
      "is_weekend\n",
      "weekday    0.022775\n",
      "weekend    0.017302\n",
      "Name: clicked, dtype: float64\n",
      "\n",
      "   By User Attributes:\n",
      "   Top Countries:\n",
      "user_country\n",
      "UK    0.024675\n",
      "US    0.024360\n",
      "ES    0.008327\n",
      "FR    0.008004\n",
      "Name: clicked, dtype: float64\n",
      "\n",
      "   By Past Purchases:\n",
      "user_past_purchases\n",
      "(-0.001, 1.0]    0.005827\n",
      "(1.0, 2.0]       0.015342\n",
      "(2.0, 4.0]       0.018843\n",
      "(4.0, 6.0]       0.026691\n",
      "(6.0, 22.0]      0.044398\n",
      "Name: clicked, dtype: float64\n"
     ]
    },
    {
     "name": "stderr",
     "output_type": "stream",
     "text": [
      "C:\\Users\\ADRIJA\\AppData\\Local\\Temp\\ipykernel_23672\\3808478951.py:24: FutureWarning: The default of observed=False is deprecated and will be changed to True in a future version of pandas. Pass observed=False to retain current behavior or observed=True to adopt the future default and silence this warning.\n",
      "  print(df.groupby(pd.qcut(df['user_past_purchases'], 5))['clicked'].mean())\n"
     ]
    },
    {
     "data": {
      "image/png": "[encoded data removed]",
      "text/plain": [
       "<Figure size 1000x600 with 1 Axes>"
      ]
     },
     "metadata": {},
     "output_type": "display_data"
    },
    {
     "data": {
      "image/png": "[encoded data removed]",
      "text/plain": [
       "<Figure size 1000x600 with 1 Axes>"
      ]
     },
     "metadata": {},
     "output_type": "display_data"
    }
   ],
   "source": [
    "# Question 4: Segment Analysis\n",
    "def analyze_segments(df):\n",
    "    print(\"\\n4. Segment Analysis Results:\")\n",
    "    \n",
    "    # Email characteristics\n",
    "    print(\"\\n   By Email Characteristics:\")\n",
    "    print(\"   Text Length:\")\n",
    "    print(df.groupby('email_text')['clicked'].mean().rename({0: 'short', 1: 'long'}))\n",
    "    print(\"\\n   Personalization:\")\n",
    "    print(df.groupby('email_version')['clicked'].mean().rename({0: 'generic', 1: 'personalized'}))\n",
    "    \n",
    "    # Timing\n",
    "    print(\"\\n   By Timing:\")\n",
    "    print(\"   Best Hours:\")\n",
    "    print(df.groupby('hour')['clicked'].mean().sort_values(ascending=False).head(5))\n",
    "    print(\"\\n   Weekend vs Weekday:\")\n",
    "    print(df.groupby('is_weekend')['clicked'].mean().rename({0: 'weekday', 1: 'weekend'}))\n",
    "    \n",
    "    # User attributes\n",
    "    print(\"\\n   By User Attributes:\")\n",
    "    print(\"   Top Countries:\")\n",
    "    print(df.groupby('user_country')['clicked'].mean().sort_values(ascending=False).head(5))\n",
    "    print(\"\\n   By Past Purchases:\")\n",
    "    print(df.groupby(pd.qcut(df['user_past_purchases'], 5))['clicked'].mean())\n",
    "    \n",
    "    # Visualizations\n",
    "    plt.figure(figsize=(10, 6))\n",
    "    df.groupby('hour')['clicked'].mean().plot(kind='bar')\n",
    "    plt.title('Click Rate by Hour of Day')\n",
    "    plt.ylabel('CTR')\n",
    "    plt.show()\n",
    "    \n",
    "    plt.figure(figsize=(10, 6))\n",
    "    df.groupby('user_country')['clicked'].mean().sort_values(ascending=False).head(10).plot(kind='bar')\n",
    "    plt.title('Top 10 Countries by CTR')\n",
    "    plt.ylabel('CTR')\n",
    "    plt.show()\n",
    "\n",
    "# Execute all analyses\n",
    "print(\"ANSWERS TO THE QUESTIONS:\\n\")\n",
    "open_rate, click_rate = calculate_rates(email_table, email_opened, link_clicked)\n",
    "model, df = build_model(email_table, email_opened, link_clicked)\n",
    "estimate_improvement(model, df)\n",
    "analyze_segments(df)    "
   ]
  },
  {
   "cell_type": "code",
   "execution_count": null,
   "id": "585d22df",
   "metadata": {},
   "outputs": [],
   "source": []
  }
 ],
 "metadata": {
  "kernelspec": {
   "display_name": "base",
   "language": "python",
   "name": "python3"
  },
  "language_info": {
   "codemirror_mode": {
    "name": "ipython",
    "version": 3
   },
   "file_extension": ".py",
   "mimetype": "text/x-python",
   "name": "python",
   "nbconvert_exporter": "python",
   "pygments_lexer": "ipython3",
   "version": "3.12.4"
  }
 },
 "nbformat": 4,
 "nbformat_minor": 5
}
